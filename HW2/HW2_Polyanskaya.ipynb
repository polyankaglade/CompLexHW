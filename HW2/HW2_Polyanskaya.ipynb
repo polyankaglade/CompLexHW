{
 "cells": [
  {
   "cell_type": "code",
   "execution_count": 1,
   "metadata": {},
   "outputs": [],
   "source": [
    "import IPython\n",
    "import nltk\n",
    "from nltk.corpus import wordnet as wn\n",
    "import pandas as pd\n",
    "from tqdm import tqdm_notebook as tqdm"
   ]
  },
  {
   "cell_type": "markdown",
   "metadata": {},
   "source": [
    "Выбираю отправной синсет"
   ]
  },
  {
   "cell_type": "code",
   "execution_count": 2,
   "metadata": {},
   "outputs": [
    {
     "name": "stdout",
     "output_type": "stream",
     "text": [
      "['accompany.v.02', 'advance.v.01', 'angle.v.01', 'ascend.v.01', 'automobile.v.01', 'back.v.02', 'bang.v.04', 'beetle.v.02', 'betake_oneself.v.01', 'billow.v.02', 'bounce.v.03', 'breeze.v.02', 'caravan.v.01', 'career.v.01', 'carry.v.36', 'circle.v.01', 'circle.v.02', 'circuit.v.01', 'circulate.v.07', 'come.v.01', 'come.v.11', 'crawl.v.01', 'cruise.v.02', 'derail.v.02', 'descend.v.01', 'do.v.13', 'drag.v.04', 'draw.v.12', 'drive.v.02', 'drive.v.14', 'ease.v.01', 'fall.v.01', 'fall.v.15', 'ferry.v.03', 'float.v.01', 'float.v.02', 'float.v.05', 'flock.v.01', 'fly.v.01', 'fly.v.06', 'follow.v.01', 'follow.v.04', 'forge.v.05', 'get_around.v.04', 'ghost.v.01', 'glide.v.01', 'go_around.v.02', 'hiss.v.02', 'hurtle.v.01', 'island_hop.v.01', 'lance.v.01', 'lurch.v.03', 'outflank.v.01', 'pace.v.02', 'pan.v.01', 'pass.v.01', 'pass_over.v.04', 'play.v.09', 'plow.v.03', 'prance.v.02', 'precede.v.04', 'precess.v.01', 'proceed.v.02', 'propagate.v.02', 'pursue.v.02', 'push.v.09', 'raft.v.02', 'repair.v.03', 'retreat.v.02', 'retrograde.v.02', 'return.v.01', 'ride.v.01', 'ride.v.04', 'ride.v.10', 'rise.v.01', 'roll.v.12', 'round.v.01', 'run.v.11', 'run.v.34', 'rush.v.01', 'scramble.v.01', 'seek.v.04', 'shuttle.v.01', 'sift.v.01', 'ski.v.01', 'slice_into.v.01', 'slither.v.01', 'snowshoe.v.01', 'speed.v.04', 'steamer.v.01', 'step.v.01', 'step.v.02', 'step.v.06', 'stray.v.02', 'swap.v.02', 'swash.v.01', 'swim.v.01', 'swim.v.05', 'swing.v.03', 'taxi.v.01', 'trail.v.03', 'tram.v.01', 'transfer.v.06', 'travel.v.04', 'travel.v.05', 'travel.v.06', 'travel_by.v.01', 'travel_purposefully.v.01', 'travel_rapidly.v.01', 'trundle.v.01', 'turn.v.06', 'walk.v.01', 'walk.v.10', 'weave.v.04', 'wend.v.01', 'wheel.v.03', 'whine.v.01', 'whish.v.02', 'whisk.v.02', 'whistle.v.02', 'withdraw.v.01', 'zigzag.v.01', 'zoom.v.02']\n"
     ]
    }
   ],
   "source": [
    "target = 'travel.v.01'\n",
    "base = wn.synset(target)\n",
    "syns = base.hyponyms()\n",
    "syn_names = [s.name() for s in syns]\n",
    "count = len(syn_names)\n",
    "print(syn_names)"
   ]
  },
  {
   "cell_type": "code",
   "execution_count": 3,
   "metadata": {},
   "outputs": [
    {
     "data": {
      "text/plain": [
       "False"
      ]
     },
     "execution_count": 3,
     "metadata": {},
     "output_type": "execute_result"
    }
   ],
   "source": [
    "target in syn_names"
   ]
  },
  {
   "cell_type": "code",
   "execution_count": 4,
   "metadata": {},
   "outputs": [
    {
     "data": {
      "text/plain": [
       "123"
      ]
     },
     "execution_count": 4,
     "metadata": {},
     "output_type": "execute_result"
    }
   ],
   "source": [
    "count"
   ]
  },
  {
   "cell_type": "markdown",
   "metadata": {},
   "source": [
    "## Матрица"
   ]
  },
  {
   "cell_type": "markdown",
   "metadata": {},
   "source": [
    "Создаю пустую матрицу"
   ]
  },
  {
   "cell_type": "code",
   "execution_count": 5,
   "metadata": {},
   "outputs": [],
   "source": [
    "matrix = pd.DataFrame([[0]*count]*count, index=syn_names, columns=syn_names)"
   ]
  },
  {
   "cell_type": "code",
   "execution_count": 6,
   "metadata": {},
   "outputs": [
    {
     "data": {
      "text/html": [
       "<div>\n",
       "<style scoped>\n",
       "    .dataframe tbody tr th:only-of-type {\n",
       "        vertical-align: middle;\n",
       "    }\n",
       "\n",
       "    .dataframe tbody tr th {\n",
       "        vertical-align: top;\n",
       "    }\n",
       "\n",
       "    .dataframe thead th {\n",
       "        text-align: right;\n",
       "    }\n",
       "</style>\n",
       "<table border=\"1\" class=\"dataframe\">\n",
       "  <thead>\n",
       "    <tr style=\"text-align: right;\">\n",
       "      <th></th>\n",
       "      <th>accompany.v.02</th>\n",
       "      <th>advance.v.01</th>\n",
       "      <th>angle.v.01</th>\n",
       "      <th>ascend.v.01</th>\n",
       "      <th>automobile.v.01</th>\n",
       "      <th>back.v.02</th>\n",
       "      <th>bang.v.04</th>\n",
       "      <th>beetle.v.02</th>\n",
       "      <th>betake_oneself.v.01</th>\n",
       "      <th>billow.v.02</th>\n",
       "      <th>...</th>\n",
       "      <th>weave.v.04</th>\n",
       "      <th>wend.v.01</th>\n",
       "      <th>wheel.v.03</th>\n",
       "      <th>whine.v.01</th>\n",
       "      <th>whish.v.02</th>\n",
       "      <th>whisk.v.02</th>\n",
       "      <th>whistle.v.02</th>\n",
       "      <th>withdraw.v.01</th>\n",
       "      <th>zigzag.v.01</th>\n",
       "      <th>zoom.v.02</th>\n",
       "    </tr>\n",
       "  </thead>\n",
       "  <tbody>\n",
       "    <tr>\n",
       "      <th>accompany.v.02</th>\n",
       "      <td>0</td>\n",
       "      <td>0</td>\n",
       "      <td>0</td>\n",
       "      <td>0</td>\n",
       "      <td>0</td>\n",
       "      <td>0</td>\n",
       "      <td>0</td>\n",
       "      <td>0</td>\n",
       "      <td>0</td>\n",
       "      <td>0</td>\n",
       "      <td>...</td>\n",
       "      <td>0</td>\n",
       "      <td>0</td>\n",
       "      <td>0</td>\n",
       "      <td>0</td>\n",
       "      <td>0</td>\n",
       "      <td>0</td>\n",
       "      <td>0</td>\n",
       "      <td>0</td>\n",
       "      <td>0</td>\n",
       "      <td>0</td>\n",
       "    </tr>\n",
       "    <tr>\n",
       "      <th>advance.v.01</th>\n",
       "      <td>0</td>\n",
       "      <td>0</td>\n",
       "      <td>0</td>\n",
       "      <td>0</td>\n",
       "      <td>0</td>\n",
       "      <td>0</td>\n",
       "      <td>0</td>\n",
       "      <td>0</td>\n",
       "      <td>0</td>\n",
       "      <td>0</td>\n",
       "      <td>...</td>\n",
       "      <td>0</td>\n",
       "      <td>0</td>\n",
       "      <td>0</td>\n",
       "      <td>0</td>\n",
       "      <td>0</td>\n",
       "      <td>0</td>\n",
       "      <td>0</td>\n",
       "      <td>0</td>\n",
       "      <td>0</td>\n",
       "      <td>0</td>\n",
       "    </tr>\n",
       "    <tr>\n",
       "      <th>angle.v.01</th>\n",
       "      <td>0</td>\n",
       "      <td>0</td>\n",
       "      <td>0</td>\n",
       "      <td>0</td>\n",
       "      <td>0</td>\n",
       "      <td>0</td>\n",
       "      <td>0</td>\n",
       "      <td>0</td>\n",
       "      <td>0</td>\n",
       "      <td>0</td>\n",
       "      <td>...</td>\n",
       "      <td>0</td>\n",
       "      <td>0</td>\n",
       "      <td>0</td>\n",
       "      <td>0</td>\n",
       "      <td>0</td>\n",
       "      <td>0</td>\n",
       "      <td>0</td>\n",
       "      <td>0</td>\n",
       "      <td>0</td>\n",
       "      <td>0</td>\n",
       "    </tr>\n",
       "    <tr>\n",
       "      <th>ascend.v.01</th>\n",
       "      <td>0</td>\n",
       "      <td>0</td>\n",
       "      <td>0</td>\n",
       "      <td>0</td>\n",
       "      <td>0</td>\n",
       "      <td>0</td>\n",
       "      <td>0</td>\n",
       "      <td>0</td>\n",
       "      <td>0</td>\n",
       "      <td>0</td>\n",
       "      <td>...</td>\n",
       "      <td>0</td>\n",
       "      <td>0</td>\n",
       "      <td>0</td>\n",
       "      <td>0</td>\n",
       "      <td>0</td>\n",
       "      <td>0</td>\n",
       "      <td>0</td>\n",
       "      <td>0</td>\n",
       "      <td>0</td>\n",
       "      <td>0</td>\n",
       "    </tr>\n",
       "    <tr>\n",
       "      <th>automobile.v.01</th>\n",
       "      <td>0</td>\n",
       "      <td>0</td>\n",
       "      <td>0</td>\n",
       "      <td>0</td>\n",
       "      <td>0</td>\n",
       "      <td>0</td>\n",
       "      <td>0</td>\n",
       "      <td>0</td>\n",
       "      <td>0</td>\n",
       "      <td>0</td>\n",
       "      <td>...</td>\n",
       "      <td>0</td>\n",
       "      <td>0</td>\n",
       "      <td>0</td>\n",
       "      <td>0</td>\n",
       "      <td>0</td>\n",
       "      <td>0</td>\n",
       "      <td>0</td>\n",
       "      <td>0</td>\n",
       "      <td>0</td>\n",
       "      <td>0</td>\n",
       "    </tr>\n",
       "  </tbody>\n",
       "</table>\n",
       "<p>5 rows × 123 columns</p>\n",
       "</div>"
      ],
      "text/plain": [
       "                 accompany.v.02  advance.v.01  angle.v.01  ascend.v.01  \\\n",
       "accompany.v.02                0             0           0            0   \n",
       "advance.v.01                  0             0           0            0   \n",
       "angle.v.01                    0             0           0            0   \n",
       "ascend.v.01                   0             0           0            0   \n",
       "automobile.v.01               0             0           0            0   \n",
       "\n",
       "                 automobile.v.01  back.v.02  bang.v.04  beetle.v.02  \\\n",
       "accompany.v.02                 0          0          0            0   \n",
       "advance.v.01                   0          0          0            0   \n",
       "angle.v.01                     0          0          0            0   \n",
       "ascend.v.01                    0          0          0            0   \n",
       "automobile.v.01                0          0          0            0   \n",
       "\n",
       "                 betake_oneself.v.01  billow.v.02  ...  weave.v.04  wend.v.01  \\\n",
       "accompany.v.02                     0            0  ...           0          0   \n",
       "advance.v.01                       0            0  ...           0          0   \n",
       "angle.v.01                         0            0  ...           0          0   \n",
       "ascend.v.01                        0            0  ...           0          0   \n",
       "automobile.v.01                    0            0  ...           0          0   \n",
       "\n",
       "                 wheel.v.03  whine.v.01  whish.v.02  whisk.v.02  whistle.v.02  \\\n",
       "accompany.v.02            0           0           0           0             0   \n",
       "advance.v.01              0           0           0           0             0   \n",
       "angle.v.01                0           0           0           0             0   \n",
       "ascend.v.01               0           0           0           0             0   \n",
       "automobile.v.01           0           0           0           0             0   \n",
       "\n",
       "                 withdraw.v.01  zigzag.v.01  zoom.v.02  \n",
       "accompany.v.02               0            0          0  \n",
       "advance.v.01                 0            0          0  \n",
       "angle.v.01                   0            0          0  \n",
       "ascend.v.01                  0            0          0  \n",
       "automobile.v.01              0            0          0  \n",
       "\n",
       "[5 rows x 123 columns]"
      ]
     },
     "execution_count": 6,
     "metadata": {},
     "output_type": "execute_result"
    }
   ],
   "source": [
    "matrix.head()"
   ]
  },
  {
   "cell_type": "markdown",
   "metadata": {},
   "source": [
    "Складываю кол-во совпадающих лемм во всех языках"
   ]
  },
  {
   "cell_type": "code",
   "execution_count": 7,
   "metadata": {},
   "outputs": [],
   "source": [
    "def count_lemmas(s1, s2):\n",
    "    n = 0\n",
    "    for lang in wn.langs():\n",
    "\n",
    "        l1 = s1.lemmas(lang)\n",
    "        l2 = s2.lemmas(lang)\n",
    "\n",
    "        n +=  len(set(l1) & set(l2))\n",
    "    return n"
   ]
  },
  {
   "cell_type": "code",
   "execution_count": 8,
   "metadata": {},
   "outputs": [
    {
     "data": {
      "application/vnd.jupyter.widget-view+json": {
       "model_id": "04c8bc066d0b4b86b874024fb1ef58c6",
       "version_major": 2,
       "version_minor": 0
      },
      "text/plain": [
       "HBox(children=(IntProgress(value=0, max=123), HTML(value='')))"
      ]
     },
     "metadata": {},
     "output_type": "display_data"
    },
    {
     "name": "stdout",
     "output_type": "stream",
     "text": [
      "\n"
     ]
    }
   ],
   "source": [
    "for s1 in tqdm(syns):\n",
    "    for s2 in syns:\n",
    "        \n",
    "        if s1 == s2:\n",
    "            continue\n",
    "        \n",
    "        n = count_lemmas(s1, s2)\n",
    "        \n",
    "        matrix[s1.name()][s2.name()] = n\n",
    "        matrix[s2.name()][s1.name()] = n"
   ]
  },
  {
   "cell_type": "code",
   "execution_count": 9,
   "metadata": {},
   "outputs": [
    {
     "data": {
      "text/html": [
       "<div>\n",
       "<style scoped>\n",
       "    .dataframe tbody tr th:only-of-type {\n",
       "        vertical-align: middle;\n",
       "    }\n",
       "\n",
       "    .dataframe tbody tr th {\n",
       "        vertical-align: top;\n",
       "    }\n",
       "\n",
       "    .dataframe thead th {\n",
       "        text-align: right;\n",
       "    }\n",
       "</style>\n",
       "<table border=\"1\" class=\"dataframe\">\n",
       "  <thead>\n",
       "    <tr style=\"text-align: right;\">\n",
       "      <th></th>\n",
       "      <th>accompany.v.02</th>\n",
       "      <th>advance.v.01</th>\n",
       "      <th>angle.v.01</th>\n",
       "      <th>ascend.v.01</th>\n",
       "      <th>automobile.v.01</th>\n",
       "      <th>back.v.02</th>\n",
       "      <th>bang.v.04</th>\n",
       "      <th>beetle.v.02</th>\n",
       "      <th>betake_oneself.v.01</th>\n",
       "      <th>billow.v.02</th>\n",
       "      <th>...</th>\n",
       "      <th>weave.v.04</th>\n",
       "      <th>wend.v.01</th>\n",
       "      <th>wheel.v.03</th>\n",
       "      <th>whine.v.01</th>\n",
       "      <th>whish.v.02</th>\n",
       "      <th>whisk.v.02</th>\n",
       "      <th>whistle.v.02</th>\n",
       "      <th>withdraw.v.01</th>\n",
       "      <th>zigzag.v.01</th>\n",
       "      <th>zoom.v.02</th>\n",
       "    </tr>\n",
       "  </thead>\n",
       "  <tbody>\n",
       "    <tr>\n",
       "      <th>accompany.v.02</th>\n",
       "      <td>0</td>\n",
       "      <td>0</td>\n",
       "      <td>0</td>\n",
       "      <td>0</td>\n",
       "      <td>0</td>\n",
       "      <td>0</td>\n",
       "      <td>0</td>\n",
       "      <td>0</td>\n",
       "      <td>0</td>\n",
       "      <td>0</td>\n",
       "      <td>...</td>\n",
       "      <td>0</td>\n",
       "      <td>0</td>\n",
       "      <td>0</td>\n",
       "      <td>0</td>\n",
       "      <td>0</td>\n",
       "      <td>0</td>\n",
       "      <td>0</td>\n",
       "      <td>0</td>\n",
       "      <td>0</td>\n",
       "      <td>0</td>\n",
       "    </tr>\n",
       "    <tr>\n",
       "      <th>advance.v.01</th>\n",
       "      <td>0</td>\n",
       "      <td>0</td>\n",
       "      <td>0</td>\n",
       "      <td>1</td>\n",
       "      <td>0</td>\n",
       "      <td>0</td>\n",
       "      <td>0</td>\n",
       "      <td>0</td>\n",
       "      <td>0</td>\n",
       "      <td>0</td>\n",
       "      <td>...</td>\n",
       "      <td>0</td>\n",
       "      <td>0</td>\n",
       "      <td>1</td>\n",
       "      <td>0</td>\n",
       "      <td>0</td>\n",
       "      <td>0</td>\n",
       "      <td>0</td>\n",
       "      <td>0</td>\n",
       "      <td>0</td>\n",
       "      <td>0</td>\n",
       "    </tr>\n",
       "    <tr>\n",
       "      <th>angle.v.01</th>\n",
       "      <td>0</td>\n",
       "      <td>0</td>\n",
       "      <td>0</td>\n",
       "      <td>0</td>\n",
       "      <td>0</td>\n",
       "      <td>0</td>\n",
       "      <td>0</td>\n",
       "      <td>0</td>\n",
       "      <td>0</td>\n",
       "      <td>0</td>\n",
       "      <td>...</td>\n",
       "      <td>0</td>\n",
       "      <td>0</td>\n",
       "      <td>0</td>\n",
       "      <td>0</td>\n",
       "      <td>0</td>\n",
       "      <td>0</td>\n",
       "      <td>0</td>\n",
       "      <td>0</td>\n",
       "      <td>0</td>\n",
       "      <td>0</td>\n",
       "    </tr>\n",
       "    <tr>\n",
       "      <th>ascend.v.01</th>\n",
       "      <td>0</td>\n",
       "      <td>1</td>\n",
       "      <td>0</td>\n",
       "      <td>0</td>\n",
       "      <td>0</td>\n",
       "      <td>0</td>\n",
       "      <td>0</td>\n",
       "      <td>0</td>\n",
       "      <td>0</td>\n",
       "      <td>0</td>\n",
       "      <td>...</td>\n",
       "      <td>0</td>\n",
       "      <td>0</td>\n",
       "      <td>0</td>\n",
       "      <td>0</td>\n",
       "      <td>0</td>\n",
       "      <td>0</td>\n",
       "      <td>0</td>\n",
       "      <td>0</td>\n",
       "      <td>0</td>\n",
       "      <td>0</td>\n",
       "    </tr>\n",
       "    <tr>\n",
       "      <th>automobile.v.01</th>\n",
       "      <td>0</td>\n",
       "      <td>0</td>\n",
       "      <td>0</td>\n",
       "      <td>0</td>\n",
       "      <td>0</td>\n",
       "      <td>0</td>\n",
       "      <td>0</td>\n",
       "      <td>0</td>\n",
       "      <td>0</td>\n",
       "      <td>0</td>\n",
       "      <td>...</td>\n",
       "      <td>0</td>\n",
       "      <td>0</td>\n",
       "      <td>0</td>\n",
       "      <td>0</td>\n",
       "      <td>0</td>\n",
       "      <td>0</td>\n",
       "      <td>0</td>\n",
       "      <td>0</td>\n",
       "      <td>0</td>\n",
       "      <td>0</td>\n",
       "    </tr>\n",
       "    <tr>\n",
       "      <th>back.v.02</th>\n",
       "      <td>0</td>\n",
       "      <td>0</td>\n",
       "      <td>0</td>\n",
       "      <td>0</td>\n",
       "      <td>0</td>\n",
       "      <td>0</td>\n",
       "      <td>0</td>\n",
       "      <td>0</td>\n",
       "      <td>0</td>\n",
       "      <td>0</td>\n",
       "      <td>...</td>\n",
       "      <td>0</td>\n",
       "      <td>0</td>\n",
       "      <td>0</td>\n",
       "      <td>0</td>\n",
       "      <td>0</td>\n",
       "      <td>0</td>\n",
       "      <td>0</td>\n",
       "      <td>10</td>\n",
       "      <td>0</td>\n",
       "      <td>0</td>\n",
       "    </tr>\n",
       "    <tr>\n",
       "      <th>bang.v.04</th>\n",
       "      <td>0</td>\n",
       "      <td>0</td>\n",
       "      <td>0</td>\n",
       "      <td>0</td>\n",
       "      <td>0</td>\n",
       "      <td>0</td>\n",
       "      <td>0</td>\n",
       "      <td>0</td>\n",
       "      <td>0</td>\n",
       "      <td>0</td>\n",
       "      <td>...</td>\n",
       "      <td>0</td>\n",
       "      <td>0</td>\n",
       "      <td>0</td>\n",
       "      <td>0</td>\n",
       "      <td>0</td>\n",
       "      <td>0</td>\n",
       "      <td>0</td>\n",
       "      <td>0</td>\n",
       "      <td>0</td>\n",
       "      <td>0</td>\n",
       "    </tr>\n",
       "    <tr>\n",
       "      <th>beetle.v.02</th>\n",
       "      <td>0</td>\n",
       "      <td>0</td>\n",
       "      <td>0</td>\n",
       "      <td>0</td>\n",
       "      <td>0</td>\n",
       "      <td>0</td>\n",
       "      <td>0</td>\n",
       "      <td>0</td>\n",
       "      <td>0</td>\n",
       "      <td>0</td>\n",
       "      <td>...</td>\n",
       "      <td>0</td>\n",
       "      <td>0</td>\n",
       "      <td>0</td>\n",
       "      <td>0</td>\n",
       "      <td>0</td>\n",
       "      <td>0</td>\n",
       "      <td>0</td>\n",
       "      <td>0</td>\n",
       "      <td>0</td>\n",
       "      <td>0</td>\n",
       "    </tr>\n",
       "    <tr>\n",
       "      <th>betake_oneself.v.01</th>\n",
       "      <td>0</td>\n",
       "      <td>0</td>\n",
       "      <td>0</td>\n",
       "      <td>0</td>\n",
       "      <td>0</td>\n",
       "      <td>0</td>\n",
       "      <td>0</td>\n",
       "      <td>0</td>\n",
       "      <td>0</td>\n",
       "      <td>0</td>\n",
       "      <td>...</td>\n",
       "      <td>0</td>\n",
       "      <td>2</td>\n",
       "      <td>0</td>\n",
       "      <td>0</td>\n",
       "      <td>0</td>\n",
       "      <td>0</td>\n",
       "      <td>0</td>\n",
       "      <td>0</td>\n",
       "      <td>0</td>\n",
       "      <td>0</td>\n",
       "    </tr>\n",
       "    <tr>\n",
       "      <th>billow.v.02</th>\n",
       "      <td>0</td>\n",
       "      <td>0</td>\n",
       "      <td>0</td>\n",
       "      <td>0</td>\n",
       "      <td>0</td>\n",
       "      <td>0</td>\n",
       "      <td>0</td>\n",
       "      <td>0</td>\n",
       "      <td>0</td>\n",
       "      <td>0</td>\n",
       "      <td>...</td>\n",
       "      <td>0</td>\n",
       "      <td>0</td>\n",
       "      <td>0</td>\n",
       "      <td>0</td>\n",
       "      <td>0</td>\n",
       "      <td>0</td>\n",
       "      <td>0</td>\n",
       "      <td>0</td>\n",
       "      <td>0</td>\n",
       "      <td>0</td>\n",
       "    </tr>\n",
       "  </tbody>\n",
       "</table>\n",
       "<p>10 rows × 123 columns</p>\n",
       "</div>"
      ],
      "text/plain": [
       "                     accompany.v.02  advance.v.01  angle.v.01  ascend.v.01  \\\n",
       "accompany.v.02                    0             0           0            0   \n",
       "advance.v.01                      0             0           0            1   \n",
       "angle.v.01                        0             0           0            0   \n",
       "ascend.v.01                       0             1           0            0   \n",
       "automobile.v.01                   0             0           0            0   \n",
       "back.v.02                         0             0           0            0   \n",
       "bang.v.04                         0             0           0            0   \n",
       "beetle.v.02                       0             0           0            0   \n",
       "betake_oneself.v.01               0             0           0            0   \n",
       "billow.v.02                       0             0           0            0   \n",
       "\n",
       "                     automobile.v.01  back.v.02  bang.v.04  beetle.v.02  \\\n",
       "accompany.v.02                     0          0          0            0   \n",
       "advance.v.01                       0          0          0            0   \n",
       "angle.v.01                         0          0          0            0   \n",
       "ascend.v.01                        0          0          0            0   \n",
       "automobile.v.01                    0          0          0            0   \n",
       "back.v.02                          0          0          0            0   \n",
       "bang.v.04                          0          0          0            0   \n",
       "beetle.v.02                        0          0          0            0   \n",
       "betake_oneself.v.01                0          0          0            0   \n",
       "billow.v.02                        0          0          0            0   \n",
       "\n",
       "                     betake_oneself.v.01  billow.v.02  ...  weave.v.04  \\\n",
       "accompany.v.02                         0            0  ...           0   \n",
       "advance.v.01                           0            0  ...           0   \n",
       "angle.v.01                             0            0  ...           0   \n",
       "ascend.v.01                            0            0  ...           0   \n",
       "automobile.v.01                        0            0  ...           0   \n",
       "back.v.02                              0            0  ...           0   \n",
       "bang.v.04                              0            0  ...           0   \n",
       "beetle.v.02                            0            0  ...           0   \n",
       "betake_oneself.v.01                    0            0  ...           0   \n",
       "billow.v.02                            0            0  ...           0   \n",
       "\n",
       "                     wend.v.01  wheel.v.03  whine.v.01  whish.v.02  \\\n",
       "accompany.v.02               0           0           0           0   \n",
       "advance.v.01                 0           1           0           0   \n",
       "angle.v.01                   0           0           0           0   \n",
       "ascend.v.01                  0           0           0           0   \n",
       "automobile.v.01              0           0           0           0   \n",
       "back.v.02                    0           0           0           0   \n",
       "bang.v.04                    0           0           0           0   \n",
       "beetle.v.02                  0           0           0           0   \n",
       "betake_oneself.v.01          2           0           0           0   \n",
       "billow.v.02                  0           0           0           0   \n",
       "\n",
       "                     whisk.v.02  whistle.v.02  withdraw.v.01  zigzag.v.01  \\\n",
       "accompany.v.02                0             0              0            0   \n",
       "advance.v.01                  0             0              0            0   \n",
       "angle.v.01                    0             0              0            0   \n",
       "ascend.v.01                   0             0              0            0   \n",
       "automobile.v.01               0             0              0            0   \n",
       "back.v.02                     0             0             10            0   \n",
       "bang.v.04                     0             0              0            0   \n",
       "beetle.v.02                   0             0              0            0   \n",
       "betake_oneself.v.01           0             0              0            0   \n",
       "billow.v.02                   0             0              0            0   \n",
       "\n",
       "                     zoom.v.02  \n",
       "accompany.v.02               0  \n",
       "advance.v.01                 0  \n",
       "angle.v.01                   0  \n",
       "ascend.v.01                  0  \n",
       "automobile.v.01              0  \n",
       "back.v.02                    0  \n",
       "bang.v.04                    0  \n",
       "beetle.v.02                  0  \n",
       "betake_oneself.v.01          0  \n",
       "billow.v.02                  0  \n",
       "\n",
       "[10 rows x 123 columns]"
      ]
     },
     "execution_count": 9,
     "metadata": {},
     "output_type": "execute_result"
    }
   ],
   "source": [
    "matrix.head(10)"
   ]
  },
  {
   "cell_type": "code",
   "execution_count": 158,
   "metadata": {},
   "outputs": [],
   "source": [
    "#matrix.to_csv('matrix.csv')"
   ]
  },
  {
   "cell_type": "markdown",
   "metadata": {},
   "source": [
    "Так можно быстро посмотреть на связи любого синсета"
   ]
  },
  {
   "cell_type": "code",
   "execution_count": 12,
   "metadata": {},
   "outputs": [],
   "source": [
    "def look(s_name):\n",
    "    return matrix[matrix[s_name] != 0][s_name]"
   ]
  },
  {
   "cell_type": "code",
   "execution_count": 46,
   "metadata": {},
   "outputs": [
    {
     "data": {
      "text/plain": [
       "follow.v.01     12\n",
       "follow.v.04      3\n",
       "precede.v.04     2\n",
       "proceed.v.02     1\n",
       "pursue.v.02      3\n",
       "Name: accompany.v.02, dtype: int64"
      ]
     },
     "execution_count": 46,
     "metadata": {},
     "output_type": "execute_result"
    }
   ],
   "source": [
    "look('accompany.v.02')"
   ]
  },
  {
   "cell_type": "code",
   "execution_count": 47,
   "metadata": {},
   "outputs": [
    {
     "data": {
      "text/plain": [
       "ascend.v.01      2\n",
       "do.v.13          1\n",
       "drive.v.14      10\n",
       "precede.v.04     5\n",
       "pursue.v.02      1\n",
       "raft.v.02        1\n",
       "return.v.01      1\n",
       "ride.v.01        3\n",
       "ride.v.04        2\n",
       "ride.v.10        9\n",
       "roll.v.12        2\n",
       "taxi.v.01        1\n",
       "travel.v.05      1\n",
       "travel.v.06      1\n",
       "wend.v.01        1\n",
       "wheel.v.03       4\n",
       "Name: drive.v.02, dtype: int64"
      ]
     },
     "execution_count": 47,
     "metadata": {},
     "output_type": "execute_result"
    }
   ],
   "source": [
    "look('drive.v.02')"
   ]
  },
  {
   "cell_type": "markdown",
   "metadata": {},
   "source": [
    "## Анализ"
   ]
  },
  {
   "cell_type": "code",
   "execution_count": 15,
   "metadata": {},
   "outputs": [],
   "source": [
    "import networkx as nx\n",
    "import matplotlib.pyplot as plt"
   ]
  },
  {
   "cell_type": "code",
   "execution_count": 38,
   "metadata": {},
   "outputs": [],
   "source": [
    "G = nx.from_pandas_adjacency(matrix)"
   ]
  },
  {
   "cell_type": "code",
   "execution_count": 39,
   "metadata": {},
   "outputs": [],
   "source": [
    "#nx.write_gexf(G, 'nx_graph.gexf')"
   ]
  },
  {
   "cell_type": "code",
   "execution_count": 40,
   "metadata": {},
   "outputs": [
    {
     "name": "stdout",
     "output_type": "stream",
     "text": [
      "Name: \n",
      "Type: Graph\n",
      "Number of nodes: 123\n",
      "Number of edges: 633\n",
      "Average degree:  10.2927\n",
      "Number of connected components: 26\n",
      "Density 0.08436625349860057\n",
      "Assortativity coefficient: 0.07961415763622556\n",
      "Av. clustering coefficient: 0.43135884355603743\n",
      "Transitivity: 0.4759366671892146\n"
     ]
    }
   ],
   "source": [
    "print(nx.info(G))\n",
    "print('Number of connected components:', nx.number_connected_components(G))\n",
    "print('Density', nx.density(G))\n",
    "print('Assortativity coefficient:', nx.degree_pearson_correlation_coefficient(G))\n",
    "print('Av. clustering coefficient:', nx.average_clustering(G))\n",
    "print('Transitivity:', nx.transitivity(G))"
   ]
  },
  {
   "cell_type": "markdown",
   "metadata": {},
   "source": [
    "### еще статистика"
   ]
  },
  {
   "cell_type": "code",
   "execution_count": 213,
   "metadata": {},
   "outputs": [
    {
     "data": {
      "text/html": [
       "<HTML> <BODY> <h1>Graph Distance  Report </h1> <hr><br><h2> Parameters: </h2>Network Interpretation:  undirected<br /><br /> <h2> Results: </h2>Diameter: 6<br />Radius: 0<br />Average Path length: 2.3205926562164483<br /><IMG SRC=\"path/Betweenness Centrality Distribution.png\"></IMG><br /><br /><IMG SRC=\"path/Closeness Centrality Distribution.png\"></IMG><br /><br /><IMG SRC=\"path/Harmonic Closeness Centrality Distribution.png\"></IMG><br /><br /><IMG SRC=\"path/Eccentricity Distribution.png\"></IMG><br /><br /><h2> Algorithm: </h2>Ulrik Brandes, <i>A Faster Algorithm for Betweenness Centrality</i>, in Journal of Mathematical Sociology 25(2):163-177, (2001)<br /></BODY> </HTML>"
      ],
      "text/plain": [
       "<IPython.core.display.HTML object>"
      ]
     },
     "execution_count": 213,
     "metadata": {},
     "output_type": "execute_result"
    }
   ],
   "source": [
    "IPython.display.HTML(filename='./path/report.html')"
   ]
  },
  {
   "cell_type": "markdown",
   "metadata": {},
   "source": [
    "![](degree/degree-distribution.png)"
   ]
  },
  {
   "cell_type": "markdown",
   "metadata": {},
   "source": [
    "#### weighted\n",
    "\n",
    "![](./w_degree/w-degree-distribution.png)"
   ]
  },
  {
   "cell_type": "markdown",
   "metadata": {},
   "source": [
    "### визуализация"
   ]
  },
  {
   "cell_type": "markdown",
   "metadata": {},
   "source": [
    "Мне не очень понравилось, что получалось при Girvan-Newman кластеризации:\n",
    "\n",
    "<img src=\"newman.png\" width=\"600\">"
   ]
  },
  {
   "cell_type": "code",
   "execution_count": 210,
   "metadata": {},
   "outputs": [
    {
     "data": {
      "text/html": [
       "<html> <body><h1>Girvan-Newman Report</h1><hr><h2>Parameters:</h2><table><tr><td>Respect edge type for shortest path betweeness:</td><td>no</td></tr><tr><td>Respect parallel edges for shortest path betweeness:</td><td>no</td></tr><tr><td colspan = 2></td></tr><tr><td>Respect edge type for modularity computation:</td><td>no</td></tr><tr><td>Respect parallel edges for modularity computation:</td><td>no</td></tr></table><br /><br /><br /><h2>Communities</h2><table><tr><td>Number of communities:</td><td>94</td></tr><tr><td>Maximum found modularity:</td><td>0.19685577</td></tr></table></body></html>"
      ],
      "text/plain": [
       "<IPython.core.display.HTML object>"
      ]
     },
     "execution_count": 210,
     "metadata": {},
     "output_type": "execute_result"
    }
   ],
   "source": [
    "IPython.display.HTML(filename='./newman/report.html')"
   ]
  },
  {
   "cell_type": "markdown",
   "metadata": {},
   "source": [
    "пэтому я остновилась на Modularity class (цвет) и Betweeness Centrality (размер). **Вот итоговая визуализация:**\n",
    "\n",
    "![](betwcentr_size_modularity_color.png)"
   ]
  },
  {
   "cell_type": "markdown",
   "metadata": {},
   "source": [
    "*(Я не очень поняла, почему greedy_modularity в networkx дает какой-то сильно другой результат, поэтому дополнительно привожу k_clique и asyn_fluidc)*"
   ]
  },
  {
   "cell_type": "code",
   "execution_count": 43,
   "metadata": {},
   "outputs": [],
   "source": [
    "from networkx import community"
   ]
  },
  {
   "cell_type": "code",
   "execution_count": 99,
   "metadata": {},
   "outputs": [],
   "source": [
    "coms = community.k_clique_communities(G, 15)\n",
    "for com in coms:\n",
    "    if len(com) > 1:\n",
    "        print(', '.join(com), end='\\n\\n')"
   ]
  },
  {
   "cell_type": "code",
   "execution_count": 89,
   "metadata": {},
   "outputs": [
    {
     "name": "stdout",
     "output_type": "stream",
     "text": [
      "ferry.v.03, pass.v.01, pass_over.v.04, transfer.v.06, sift.v.01\n",
      "\n",
      "repair.v.03, wheel.v.03, pan.v.01, ride.v.10, turn.v.06, swing.v.03, weave.v.04, roll.v.12, stray.v.02\n",
      "\n",
      "fly.v.01, ascend.v.01, swim.v.01, ride.v.01, float.v.02, swim.v.05, float.v.05, travel_by.v.01, float.v.01\n",
      "\n",
      "rush.v.01, hurtle.v.01, lance.v.01, career.v.01, scramble.v.01, speed.v.04, travel_rapidly.v.01, whisk.v.02, forge.v.05\n",
      "\n",
      "round.v.01, circle.v.02, circuit.v.01, travel.v.06, outflank.v.01, tram.v.01, circle.v.01\n",
      "\n",
      "follow.v.04, pursue.v.02, crawl.v.01, proceed.v.02, follow.v.01, accompany.v.02, trail.v.03, drag.v.04\n",
      "\n",
      "go_around.v.02, get_around.v.04, fly.v.06, circulate.v.07, propagate.v.02, cruise.v.02\n",
      "\n",
      "walk.v.10, walk.v.01, pace.v.02, betake_oneself.v.01, ride.v.04, wend.v.01, step.v.02, retrograde.v.02, retreat.v.02, travel_purposefully.v.01, withdraw.v.01, shuttle.v.01, travel.v.05, step.v.01, travel.v.04, back.v.02, step.v.06\n",
      "\n",
      "do.v.13, run.v.34, advance.v.01, descend.v.01, come.v.01, fall.v.01, carry.v.36, fall.v.15, run.v.11, rise.v.01, draw.v.12, come.v.11\n",
      "\n",
      "zigzag.v.01, slither.v.01, ski.v.01, taxi.v.01, glide.v.01, breeze.v.02, play.v.09\n",
      "\n",
      "hiss.v.02, precede.v.04, drive.v.02, raft.v.02, whistle.v.02, drive.v.14, return.v.01, push.v.09\n",
      "\n"
     ]
    }
   ],
   "source": [
    "largest = max(nx.connected_component_subgraphs(G), key=len)\n",
    "coms2 = community.asyn_fluidc(largest, 11)\n",
    "\n",
    "for com in coms2:\n",
    "    if len(com) > 1:\n",
    "        print(', '.join(com), end='\\n\\n')"
   ]
  },
  {
   "cell_type": "markdown",
   "metadata": {},
   "source": [
    "### Центральность"
   ]
  },
  {
   "cell_type": "markdown",
   "metadata": {},
   "source": [
    "Топ по degree:"
   ]
  },
  {
   "cell_type": "code",
   "execution_count": 23,
   "metadata": {},
   "outputs": [
    {
     "name": "stdout",
     "output_type": "stream",
     "text": [
      "roll.v.12\n",
      "travel_by.v.01\n",
      "advance.v.01\n",
      "travel.v.05\n",
      "do.v.13\n",
      "ride.v.10\n",
      "travel.v.06\n",
      "come.v.01\n",
      "proceed.v.02\n",
      "ride.v.01\n",
      "rush.v.01\n",
      "walk.v.01\n"
     ]
    }
   ],
   "source": [
    "deg = nx.degree_centrality(G)\n",
    "for node in sorted(deg, key=deg.get, reverse=True)[:12]:\n",
    "    print(node)"
   ]
  },
  {
   "cell_type": "markdown",
   "metadata": {},
   "source": [
    "<img src=\"top_degree.png\" width=\"600\">"
   ]
  },
  {
   "cell_type": "markdown",
   "metadata": {},
   "source": [
    "Топ по betweenness centrality:"
   ]
  },
  {
   "cell_type": "code",
   "execution_count": 25,
   "metadata": {},
   "outputs": [
    {
     "name": "stdout",
     "output_type": "stream",
     "text": [
      "rush.v.01\n",
      "roll.v.12\n",
      "advance.v.01\n",
      "proceed.v.02\n",
      "pass.v.01\n",
      "travel.v.05\n",
      "wheel.v.03\n",
      "travel_by.v.01\n",
      "weave.v.04\n",
      "travel.v.06\n",
      "career.v.01\n"
     ]
    }
   ],
   "source": [
    "b = nx.betweenness_centrality(G)\n",
    "for node in sorted(b, key=b.get, reverse=True)[:11]:\n",
    "    print(node)"
   ]
  },
  {
   "cell_type": "markdown",
   "metadata": {},
   "source": [
    "<img src=\"top_betw.png\" width=\"600\">"
   ]
  },
  {
   "cell_type": "markdown",
   "metadata": {},
   "source": [
    "Топ по eigencentrality:"
   ]
  },
  {
   "cell_type": "code",
   "execution_count": 27,
   "metadata": {},
   "outputs": [
    {
     "name": "stdout",
     "output_type": "stream",
     "text": [
      "rush.v.01\n",
      "roll.v.12\n",
      "advance.v.01\n",
      "proceed.v.02\n",
      "pass.v.01\n",
      "travel.v.05\n",
      "wheel.v.03\n",
      "travel_by.v.01\n",
      "weave.v.04\n",
      "travel.v.06\n",
      "career.v.01\n",
      "ride.v.10\n"
     ]
    }
   ],
   "source": [
    "e = nx.eigenvector_centrality(G)\n",
    "for node in sorted(b, key=b.get, reverse=True)[:12]:\n",
    "    print(node)"
   ]
  },
  {
   "cell_type": "markdown",
   "metadata": {},
   "source": [
    "<img src=\"eigen_80.png\" width=\"600\">"
   ]
  },
  {
   "cell_type": "markdown",
   "metadata": {},
   "source": [
    "Топ по closeness centrality:"
   ]
  },
  {
   "cell_type": "code",
   "execution_count": 31,
   "metadata": {},
   "outputs": [
    {
     "name": "stdout",
     "output_type": "stream",
     "text": [
      "rush.v.01\n",
      "roll.v.12\n",
      "advance.v.01\n",
      "proceed.v.02\n",
      "pass.v.01\n",
      "travel.v.05\n",
      "wheel.v.03\n",
      "travel_by.v.01\n",
      "weave.v.04\n",
      "travel.v.06\n",
      "career.v.01\n",
      "ride.v.10\n",
      "draw.v.12\n",
      "do.v.13\n"
     ]
    }
   ],
   "source": [
    "c = nx.closeness_centrality(G)\n",
    "for node in sorted(c, key=b.get, reverse=True)[:14]:\n",
    "    print(node)"
   ]
  },
  {
   "cell_type": "markdown",
   "metadata": {},
   "source": [
    "<img src=\"clos_55.png\" width=\"600\">"
   ]
  },
  {
   "cell_type": "markdown",
   "metadata": {},
   "source": [
    "## Выводы\n",
    "\n",
    "26 компонент, из которых одна состоит из 2 элементов (*zoom.v.02* и *whish.v.02*) и 24 одинарных:"
   ]
  },
  {
   "cell_type": "code",
   "execution_count": 221,
   "metadata": {},
   "outputs": [
    {
     "name": "stdout",
     "output_type": "stream",
     "text": [
      "['angle.v.01', 'automobile.v.01', 'bang.v.04', 'beetle.v.02', 'billow.v.02', 'bounce.v.03', 'caravan.v.01', 'derail.v.02', 'ease.v.01', 'flock.v.01', 'ghost.v.01', 'island_hop.v.01', 'lurch.v.03', 'plow.v.03', 'prance.v.02', 'precess.v.01', 'seek.v.04', 'slice_into.v.01', 'snowshoe.v.01', 'steamer.v.01', 'swap.v.02', 'swash.v.01', 'trundle.v.01', 'whine.v.01']\n"
     ]
    }
   ],
   "source": [
    "print([i for i in pmatrix if sum(pmatrix[i]) == 0])"
   ]
  },
  {
   "cell_type": "markdown",
   "metadata": {},
   "source": [
    "*roll.v.12* всегда высоко топе по всем приведенным метрикам центральности. Я, честно говоря, не совсем понимаю почему, но предположу, что причина в том, что это значение хуже всех лексикализовано, поэтому у него очень много вариантов выражения лексемами с другими основными значениями."
   ]
  },
  {
   "cell_type": "code",
   "execution_count": 122,
   "metadata": {},
   "outputs": [
    {
     "data": {
      "text/plain": [
       "'move about aimlessly or without any destination, often in search of food or employment'"
      ]
     },
     "execution_count": 122,
     "metadata": {},
     "output_type": "execute_result"
    }
   ],
   "source": [
    "wn.synset('roll.v.12').definition()"
   ]
  },
  {
   "cell_type": "code",
   "execution_count": 123,
   "metadata": {},
   "outputs": [
    {
     "data": {
      "text/plain": [
       "advance.v.01            1\n",
       "carry.v.36              1\n",
       "circle.v.02             2\n",
       "circuit.v.01            1\n",
       "circulate.v.07          2\n",
       "come.v.01               1\n",
       "come.v.11               1\n",
       "descend.v.01            1\n",
       "do.v.13                 3\n",
       "draw.v.12               3\n",
       "drive.v.02              2\n",
       "fall.v.01               1\n",
       "fall.v.15               2\n",
       "float.v.01             24\n",
       "float.v.02              4\n",
       "fly.v.01                2\n",
       "get_around.v.04         2\n",
       "glide.v.01              2\n",
       "go_around.v.02          6\n",
       "outflank.v.01           2\n",
       "pan.v.01                1\n",
       "proceed.v.02            1\n",
       "repair.v.03             1\n",
       "ride.v.01               1\n",
       "ride.v.10               1\n",
       "rise.v.01               1\n",
       "run.v.11                2\n",
       "run.v.34                1\n",
       "rush.v.01               1\n",
       "step.v.02               2\n",
       "stray.v.02             23\n",
       "swim.v.01               2\n",
       "swing.v.03              1\n",
       "transfer.v.06           2\n",
       "travel.v.04             8\n",
       "travel.v.05             5\n",
       "travel.v.06             2\n",
       "travel_rapidly.v.01     1\n",
       "turn.v.06               3\n",
       "walk.v.01               4\n",
       "walk.v.10               7\n",
       "weave.v.04             38\n",
       "wheel.v.03             32\n",
       "Name: roll.v.12, dtype: int64"
      ]
     },
     "execution_count": 123,
     "metadata": {},
     "output_type": "execute_result"
    }
   ],
   "source": [
    "look('roll.v.12')"
   ]
  },
  {
   "cell_type": "markdown",
   "metadata": {},
   "source": [
    "Еще \"важными\" оказываются:\n",
    "*rush.v.01, advance.v.01, proceed.v.02, pass.v.01* и *travel.v.05*. Если посмотреть на их дефиниции, можно сказать, что это самые \"широкие\" значения (наименее специфичные):"
   ]
  },
  {
   "cell_type": "code",
   "execution_count": 121,
   "metadata": {},
   "outputs": [
    {
     "name": "stdout",
     "output_type": "stream",
     "text": [
      "rush.v.01:\tmove fast\n",
      "advance.v.01:\tmove forward, also in the metaphorical sense\n",
      "proceed.v.02:\tmove ahead; travel onward in time or space\n",
      "pass.v.01:\tgo across or through\n",
      "travel.v.05:\tundergo transportation as in a vehicle\n"
     ]
    }
   ],
   "source": [
    "for s in 'rush.v.01, advance.v.01, proceed.v.02, pass.v.01, travel.v.05'.split(', '):\n",
    "    d = wn.synset(s).definition()\n",
    "    print(f'{s}:\\t{d}')"
   ]
  },
  {
   "cell_type": "markdown",
   "metadata": {},
   "source": [
    "При разделении на сообщества, можно выделить следующие относительно устойчивые кластеры:\n",
    "* манера передвижения (roll, wheel, weave, zigzag)\n",
    "\n",
    "* передвижение по окружности (go around, circulate, circle)\n",
    "\n",
    "* передвижение с кем-то / следование (follow, trail, accompany)\n",
    "\n",
    "* движение вперед (proceed, advance)\n",
    "\n",
    "* движение назад (back, withdraw, retreat)\n",
    "\n",
    "* быстрое движение (speed, rush, travel_rapidly, career, whisk, hiss, lance)\n",
    "\n",
    "* инструмент передвижения (step, ride (animal), tram, shuttle) + направленное движение (разные travel, repair, wend) получаются одним кластером\n",
    "\n",
    "К сожалению, ни одним алгоритмом не выделяются четкие кластер передвижения с помощью определенного средства (типа sky, tram, swing, drive by car, ride an animal) и кластер движения по вертикальной оси (rise, accend vs fall, descend)"
   ]
  },
  {
   "cell_type": "markdown",
   "metadata": {},
   "source": [
    "|сделано| баллы        | задачи          |\n",
    "|-------| ------------- |-------------| \n",
    "|да| 1.5| извлечены все гипонимы синсета Х (выберите такой Х, у которого не меньше 30 гипонимов)| \n",
    "|да| 2| построен граф, где узлы -- гипонимы синсета X, а рёбра отражают колексификацию узлов|   \n",
    "|да| 1| толщина ребра отражает частоту колексификации|   \n",
    "|да| 0.5       | сколько получилось связных компонент?         |\n",
    "|да| 1        | определён коэффициент ассортативности и плотность графа          |\n",
    "|да| 2        | как распределились (взвешенные) степени узлов? какие узлы оказались центральными (попробуйте несколько метрик, например, degree centrality и eigencentrality)? прокомментируйте результаты           |\n",
    "|да| 2       | разбейте граф на сообщества (поиграйте с несколькими алгоритмами) и прокомментируйте результаты         |\n",
    "|да| + 1 бонусный балл       | в качестве X, взят синсет ‘travel.v.01’ (обратите внимание, что он большой, 123 гипонима)        |"
   ]
  },
  {
   "cell_type": "markdown",
   "metadata": {},
   "source": [
    "*Анна Полянская, 2020*"
   ]
  }
 ],
 "metadata": {
  "kernelspec": {
   "display_name": "Python 3",
   "language": "python",
   "name": "python3"
  },
  "language_info": {
   "codemirror_mode": {
    "name": "ipython",
    "version": 3
   },
   "file_extension": ".py",
   "mimetype": "text/x-python",
   "name": "python",
   "nbconvert_exporter": "python",
   "pygments_lexer": "ipython3",
   "version": "3.7.3"
  }
 },
 "nbformat": 4,
 "nbformat_minor": 2
}
