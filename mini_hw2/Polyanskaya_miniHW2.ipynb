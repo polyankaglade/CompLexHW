{
 "cells": [
  {
   "cell_type": "code",
   "execution_count": 1,
   "metadata": {},
   "outputs": [],
   "source": [
    "from nltk.corpus import framenet as fn\n",
    "from tqdm import tqdm_notebook as tqdm"
   ]
  },
  {
   "cell_type": "code",
   "execution_count": 2,
   "metadata": {},
   "outputs": [
    {
     "data": {
      "application/vnd.jupyter.widget-view+json": {
       "model_id": "460847a7bc23418d88b2e99a6bb12a25",
       "version_major": 2,
       "version_minor": 0
      },
      "text/plain": [
       "HBox(children=(IntProgress(value=0, max=1221), HTML(value='')))"
      ]
     },
     "metadata": {},
     "output_type": "display_data"
    },
    {
     "name": "stdout",
     "output_type": "stream",
     "text": [
      "\n"
     ]
    }
   ],
   "source": [
    "result = []\n",
    "\n",
    "for i in tqdm(range(len(fn.frames()))):\n",
    "    frame = fn.frames()[i]\n",
    "    try:\n",
    "        if frame.FE.Source.coreType == 'Core':\n",
    "            result.append(frame.name)\n",
    "    except KeyError:\n",
    "        continue"
   ]
  },
  {
   "cell_type": "code",
   "execution_count": 3,
   "metadata": {},
   "outputs": [
    {
     "data": {
      "text/plain": [
       "51"
      ]
     },
     "execution_count": 3,
     "metadata": {},
     "output_type": "execute_result"
    }
   ],
   "source": [
    "len(result)"
   ]
  },
  {
   "cell_type": "code",
   "execution_count": 4,
   "metadata": {},
   "outputs": [
    {
     "name": "stdout",
     "output_type": "stream",
     "text": [
      "Becoming_detached, Being_detached, Bringing, Cause_fluidic_motion, Cause_motion, Container_focused_removing, Correctness, Cotheme, Departing, Detaching, Emanating, Emptying, Excreting, Fleeing, Fluidic_motion, Food_gathering, Getting_underway, Getting_vehicle_underway, Intentional_traversing, Level_of_light, Light_movement, Mass_motion, Motion, Motion_directional, Motion_noise, Motion_scenario, Operate_vehicle, Operate_vehicle_scenario, Optical_image, Passing, Path_shape, Planned_trajectory, Quitting_a_place, Removing, Removing_scenario, Ride_vehicle, Robbery, Self_motion, Sensation, Setting_out, Smuggling, Source_of_getting, Source_path_goal, Taking, Theft, Travel, Traversing, Use_vehicle, Vehicle_departure_initial_stage, Visiting_scenario_departing, Visitor_departure, "
     ]
    }
   ],
   "source": [
    "for res in result:\n",
    "    print(res, end=', ')"
   ]
  },
  {
   "cell_type": "markdown",
   "metadata": {},
   "source": [
    "Анна Полянская"
   ]
  }
 ],
 "metadata": {
  "kernelspec": {
   "display_name": "Python 3",
   "language": "python",
   "name": "python3"
  },
  "language_info": {
   "codemirror_mode": {
    "name": "ipython",
    "version": 3
   },
   "file_extension": ".py",
   "mimetype": "text/x-python",
   "name": "python",
   "nbconvert_exporter": "python",
   "pygments_lexer": "ipython3",
   "version": "3.7.3"
  }
 },
 "nbformat": 4,
 "nbformat_minor": 2
}
